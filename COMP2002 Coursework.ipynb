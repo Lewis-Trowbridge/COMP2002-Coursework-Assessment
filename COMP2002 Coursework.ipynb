{
 "cells": [
  {
   "cell_type": "markdown",
   "metadata": {},
   "source": [
    "# COMP2002 Assessment\n",
    "\n",
    "This notebook will contain demonstrations of:\n",
    "- Regression models trained to predict the Fire Weather Index (FWI) at a given time based on 12 numerical inputs from records of forest fires in 2 regions of Algeria.\n",
    "- Optimisers designed to optimise routes between cities in the Travelling Salesman Problem."
   ]
  },
  {
   "cell_type": "code",
   "execution_count": 1,
   "metadata": {},
   "outputs": [],
   "source": [
    "import pandas as pd\n",
    "from sklearn.preprocessing import MinMaxScaler\n",
    "from sklearn.ensemble import RandomForestRegressor\n",
    "from sklearn.neural_network import MLPRegressor\n",
    "from sklearn.svm import SVR\n",
    "from sklearn.metrics import mean_absolute_error\n",
    "from sklearn.model_selection import cross_val_score"
   ]
  },
  {
   "cell_type": "code",
   "execution_count": 2,
   "metadata": {},
   "outputs": [],
   "source": [
    "# Load forest file data using Pandas\n",
    "forest_fire_region_1_data = pd.read_csv(\"./data/AlgerianFF_Region1.csv\")\n",
    "forest_fire_region_2_data = pd.read_csv(\"./data/AlgerianFF_Region2.csv\")"
   ]
  },
  {
   "cell_type": "code",
   "execution_count": 3,
   "metadata": {},
   "outputs": [],
   "source": [
    "# Copy data to avoid making permanent unrecoverable changes to the original\n",
    "forest_fire_region_1_training_data = forest_fire_region_1_data.copy()\n",
    "forest_fire_region_2_training_data = forest_fire_region_2_data.copy()\n",
    "\n",
    "# Seperate FWI from the rest of the data, as this is the output we want to generate\n",
    "forest_fire_region_1_training_targets = forest_fire_region_1_training_data.pop(\"FWI\")\n",
    "forest_fire_region_2_training_targets = forest_fire_region_2_training_data.pop(\"FWI\")"
   ]
  },
  {
   "cell_type": "code",
   "execution_count": 4,
   "metadata": {},
   "outputs": [],
   "source": [
    "# Create separate scalers for each dataset\n",
    "ffr_1_scaler = MinMaxScaler()\n",
    "ffr_2_scaler = MinMaxScaler()\n",
    "\n",
    "# Fit each scaler on its own dataset\n",
    "ffr_1_scaler.fit(forest_fire_region_1_training_data)\n",
    "ffr_2_scaler.fit(forest_fire_region_2_training_data)\n",
    "\n",
    "# Normalise each dataset using the now fitted scalers\n",
    "scaled_ffr_1_training_data = ffr_1_scaler.transform(forest_fire_region_1_training_data)\n",
    "scaled_ffr_2_training_data = ffr_1_scaler.transform(forest_fire_region_2_training_data)"
   ]
  },
  {
   "cell_type": "code",
   "execution_count": 5,
   "metadata": {},
   "outputs": [],
   "source": [
    "# Initialise regressor objects\n",
    "random_forest_regressor = RandomForestRegressor(n_estimators=100)\n",
    "# Set max_iter to 1000 in order to reach convergence and solver to lbfgs for better performance on smaller datasets\n",
    "neural_network_regressor = MLPRegressor(max_iter=1000, solver='lbfgs')\n",
    "# Set kernel to linear for better performance\n",
    "support_vector_regressor = SVR(kernel='linear')"
   ]
  },
  {
   "cell_type": "code",
   "execution_count": 6,
   "metadata": {},
   "outputs": [
    {
     "data": {
      "text/plain": [
       "SVR(C=1.0, cache_size=200, coef0=0.0, degree=3, epsilon=0.1, gamma='auto',\n",
       "  kernel='linear', max_iter=-1, shrinking=True, tol=0.001, verbose=False)"
      ]
     },
     "execution_count": 6,
     "metadata": {},
     "output_type": "execute_result"
    }
   ],
   "source": [
    "# Train regressors on training data\n",
    "random_forest_regressor.fit(scaled_ffr_1_training_data, forest_fire_region_1_training_targets)\n",
    "neural_network_regressor.fit(scaled_ffr_1_training_data, forest_fire_region_1_training_targets)\n",
    "support_vector_regressor.fit(scaled_ffr_1_training_data, forest_fire_region_1_training_targets)"
   ]
  },
  {
   "cell_type": "code",
   "execution_count": 7,
   "metadata": {},
   "outputs": [],
   "source": [
    "def test_on_point_in_dataset(regressor, point_index):\n",
    "    prediction = regressor.predict(scaled_ffr_1_training_data[point_index].reshape(1, 12))\n",
    "    prediction_string = f\"Real: {forest_fire_region_1_training_targets[point_index]}\\nPredicted by regressor: {prediction[0]}\"\n",
    "    return prediction_string"
   ]
  },
  {
   "cell_type": "code",
   "execution_count": 8,
   "metadata": {},
   "outputs": [
    {
     "name": "stdout",
     "output_type": "stream",
     "text": [
      "Real: 0.5\n",
      "Predicted by regressor: 0.514\n"
     ]
    }
   ],
   "source": [
    "# Use trained random forest regressor to predict the first point in the training dataset\n",
    "print(test_on_point_in_dataset(random_forest_regressor, 0))"
   ]
  },
  {
   "cell_type": "code",
   "execution_count": 9,
   "metadata": {},
   "outputs": [
    {
     "name": "stdout",
     "output_type": "stream",
     "text": [
      "Real: 0.5\n",
      "Predicted by regressor: 0.49809920647480255\n"
     ]
    }
   ],
   "source": [
    "# Use trained neural network regressor to predict the first point in the training dataset\n",
    "print(test_on_point_in_dataset(neural_network_regressor, 0))"
   ]
  },
  {
   "cell_type": "code",
   "execution_count": 10,
   "metadata": {},
   "outputs": [
    {
     "name": "stdout",
     "output_type": "stream",
     "text": [
      "Real: 0.5\n",
      "Predicted by regressor: 0.5744725713973874\n"
     ]
    }
   ],
   "source": [
    "# Use trained support vector regressor to predict the first point in the training dataset\n",
    "print(test_on_point_in_dataset(support_vector_regressor, 0))"
   ]
  },
  {
   "cell_type": "code",
   "execution_count": 11,
   "metadata": {},
   "outputs": [],
   "source": [
    "def get_mae_from_testing_data(regressor, testing_data, testing_targets):\n",
    "    predictions = regressor.predict(testing_data)\n",
    "    return mean_absolute_error(testing_targets, predictions)"
   ]
  },
  {
   "cell_type": "code",
   "execution_count": 12,
   "metadata": {},
   "outputs": [
    {
     "name": "stdout",
     "output_type": "stream",
     "text": [
      "1.0233032786885239\n",
      "0.41867085517095515\n",
      "1.204717604997872\n"
     ]
    }
   ],
   "source": [
    "print(get_mae_from_testing_data(random_forest_regressor, scaled_ffr_2_training_data, forest_fire_region_2_training_targets))\n",
    "print(get_mae_from_testing_data(neural_network_regressor, scaled_ffr_2_training_data, forest_fire_region_2_training_targets))\n",
    "print(get_mae_from_testing_data(support_vector_regressor, scaled_ffr_2_training_data, forest_fire_region_2_training_targets))"
   ]
  },
  {
   "cell_type": "code",
   "execution_count": 13,
   "metadata": {},
   "outputs": [],
   "source": [
    "def get_cross_validation_scores(regressor, testing_data, testing_targets):\n",
    "    return cross_val_score(regressor, testing_data, testing_targets, cv=5)"
   ]
  },
  {
   "cell_type": "code",
   "execution_count": 14,
   "metadata": {},
   "outputs": [
    {
     "name": "stdout",
     "output_type": "stream",
     "text": [
      "[0.98123004 0.96017353 0.94688798 0.88076295 0.98418365] [0.99159989 0.98819097 0.92363333 0.99489808 0.9808997 ] [0.88409408 0.97623018 0.90414872 0.95179938 0.96578783]\n"
     ]
    }
   ],
   "source": [
    "random_forest_scores = get_cross_validation_scores(random_forest_regressor, scaled_ffr_2_training_data, forest_fire_region_2_training_targets)\n",
    "neural_network_scores = get_cross_validation_scores(neural_network_regressor, scaled_ffr_2_training_data, forest_fire_region_2_training_targets)\n",
    "support_vector_scores = get_cross_validation_scores(support_vector_regressor, scaled_ffr_2_training_data, forest_fire_region_2_training_targets)\n",
    "print(random_forest_scores, neural_network_scores, support_vector_scores)"
   ]
  },
  {
   "cell_type": "code",
   "execution_count": null,
   "metadata": {},
   "outputs": [],
   "source": []
  }
 ],
 "metadata": {
  "kernelspec": {
   "display_name": "Python 3",
   "language": "python",
   "name": "python3"
  },
  "language_info": {
   "codemirror_mode": {
    "name": "ipython",
    "version": 3
   },
   "file_extension": ".py",
   "mimetype": "text/x-python",
   "name": "python",
   "nbconvert_exporter": "python",
   "pygments_lexer": "ipython3",
   "version": "3.6.5"
  }
 },
 "nbformat": 4,
 "nbformat_minor": 2
}
