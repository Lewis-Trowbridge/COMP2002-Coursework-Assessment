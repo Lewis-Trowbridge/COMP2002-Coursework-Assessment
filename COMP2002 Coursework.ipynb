{
 "cells": [
  {
   "cell_type": "markdown",
   "metadata": {},
   "source": [
    "# COMP2002 Assessment\n",
    "\n",
    "This notebook will contain demonstrations of:\n",
    "- Regression models trained to predict the Fire Weather Index (FWI) at a given time based on 12 numerical inputs from records of forest fires in 2 regions of Algeria.\n",
    "- Optimisers designed to optimise routes between cities in the Travelling Salesman Problem."
   ]
  },
  {
   "cell_type": "code",
   "execution_count": 1,
   "metadata": {},
   "outputs": [],
   "source": [
    "import pandas as pd\n",
    "import numpy as np\n",
    "from sklearn.preprocessing import MinMaxScaler\n",
    "from sklearn.ensemble import RandomForestRegressor\n",
    "from sklearn.neural_network import MLPRegressor\n",
    "from sklearn.svm import SVR\n",
    "from sklearn.metrics import mean_absolute_error\n",
    "from sklearn.model_selection import cross_val_score, train_test_split\n",
    "import matplotlib.pyplot as plt\n",
    "from random import shuffle, randint"
   ]
  },
  {
   "cell_type": "markdown",
   "metadata": {},
   "source": [
    "### Regression"
   ]
  },
  {
   "cell_type": "code",
   "execution_count": 2,
   "metadata": {},
   "outputs": [],
   "source": [
    "# Load forest file data using Pandas\n",
    "forest_fire_region_1_data = pd.read_csv(\"./data/AlgerianFF_Region1.csv\")\n",
    "forest_fire_region_2_data = pd.read_csv(\"./data/AlgerianFF_Region2.csv\")"
   ]
  },
  {
   "cell_type": "code",
   "execution_count": 3,
   "metadata": {},
   "outputs": [],
   "source": [
    "# Copy data to avoid making permanent unrecoverable changes to the original\n",
    "forest_fire_region_1_training_data = forest_fire_region_1_data.copy()\n",
    "forest_fire_region_2_training_data = forest_fire_region_2_data.copy()\n",
    "\n",
    "# Merge datasets into one set\n",
    "forest_fire_data = pd.concat([forest_fire_region_1_training_data, forest_fire_region_2_training_data])\n",
    "\n",
    "# Seperate FWI from the rest of the data, as this is the output we want to generate\n",
    "forest_fire_targets = np.array(forest_fire_data.pop(\"FWI\"))"
   ]
  },
  {
   "cell_type": "code",
   "execution_count": 4,
   "metadata": {},
   "outputs": [
    {
     "name": "stdout",
     "output_type": "stream",
     "text": [
      "[1. 1. 0. 1. 1. 1. 1. 1. 1. 1. 1. 1.]\n"
     ]
    }
   ],
   "source": [
    "# Create scaler for merged dataset\n",
    "ffr_scaler = MinMaxScaler()\n",
    "\n",
    "# Fit scaler on merged dataset\n",
    "ffr_scaler.fit(forest_fire_data)\n",
    "\n",
    "# Normalise dataset using the now fitted scaler\n",
    "scaled_forest_fire_data = ffr_scaler.transform(forest_fire_data)\n",
    "print(scaled_forest_fire_data.ptp(axis=0))"
   ]
  },
  {
   "cell_type": "code",
   "execution_count": 5,
   "metadata": {},
   "outputs": [],
   "source": [
    "# Split data into training, testing and validation sets\n",
    "forest_fire_training_data, forest_fire_testing_data, forest_fire_training_targets, forest_fire_testing_targets = train_test_split(scaled_forest_fire_data, forest_fire_targets)\n",
    "forest_fire_training_data, forest_fire_validation_data, forest_fire_training_targets, forest_fire_validation_targets = train_test_split(forest_fire_training_data, forest_fire_training_targets)"
   ]
  },
  {
   "cell_type": "code",
   "execution_count": 6,
   "metadata": {},
   "outputs": [],
   "source": [
    "# Initialise regressor objects\n",
    "random_forest_regressor = RandomForestRegressor(n_estimators=100)\n",
    "# Set activaion to tanh and solver to lbfgs for better performance on smaller datasets\n",
    "neural_network_regressor = MLPRegressor(solver='lbfgs', activation='tanh')\n",
    "# Set kernel to linear for better performance\n",
    "support_vector_regressor = SVR(kernel='linear', C=10.0)"
   ]
  },
  {
   "cell_type": "code",
   "execution_count": 7,
   "metadata": {},
   "outputs": [
    {
     "data": {
      "text/plain": [
       "SVR(C=10.0, cache_size=200, coef0=0.0, degree=3, epsilon=0.1, gamma='auto',\n",
       "  kernel='linear', max_iter=-1, shrinking=True, tol=0.001, verbose=False)"
      ]
     },
     "execution_count": 7,
     "metadata": {},
     "output_type": "execute_result"
    }
   ],
   "source": [
    "# Train regressors on training data\n",
    "random_forest_regressor.fit(forest_fire_training_data, forest_fire_training_targets)\n",
    "neural_network_regressor.fit(forest_fire_training_data, forest_fire_training_targets)\n",
    "support_vector_regressor.fit(forest_fire_training_data, forest_fire_training_targets)"
   ]
  },
  {
   "cell_type": "code",
   "execution_count": 8,
   "metadata": {},
   "outputs": [],
   "source": [
    "def test_on_point_in_dataset(regressor, point_index):\n",
    "    prediction = regressor.predict(forest_fire_training_data[point_index].reshape(1, 12))\n",
    "    prediction_string = f\"Real: {forest_fire_training_targets[point_index]}\\nPredicted by regressor: {prediction[0]}\"\n",
    "    return prediction_string"
   ]
  },
  {
   "cell_type": "code",
   "execution_count": 9,
   "metadata": {},
   "outputs": [
    {
     "name": "stdout",
     "output_type": "stream",
     "text": [
      "Real: 0.3\n",
      "Predicted by regressor: 0.2380000000000003\n"
     ]
    }
   ],
   "source": [
    "# Use trained random forest regressor to predict the first point in the training dataset\n",
    "print(test_on_point_in_dataset(random_forest_regressor, 0))"
   ]
  },
  {
   "cell_type": "code",
   "execution_count": 10,
   "metadata": {},
   "outputs": [
    {
     "name": "stdout",
     "output_type": "stream",
     "text": [
      "Real: 0.3\n",
      "Predicted by regressor: 0.30054924401619565\n"
     ]
    }
   ],
   "source": [
    "# Use trained neural network regressor to predict the first point in the training dataset\n",
    "print(test_on_point_in_dataset(neural_network_regressor, 0))"
   ]
  },
  {
   "cell_type": "code",
   "execution_count": 11,
   "metadata": {},
   "outputs": [
    {
     "name": "stdout",
     "output_type": "stream",
     "text": [
      "Real: 0.3\n",
      "Predicted by regressor: 0.39324755320452354\n"
     ]
    }
   ],
   "source": [
    "# Use trained support vector regressor to predict the first point in the training dataset\n",
    "print(test_on_point_in_dataset(support_vector_regressor, 0))"
   ]
  },
  {
   "cell_type": "code",
   "execution_count": 12,
   "metadata": {},
   "outputs": [],
   "source": [
    "def get_mae_from_testing_data(regressor, testing_data, testing_targets):\n",
    "    predictions = regressor.predict(testing_data)\n",
    "    return mean_absolute_error(testing_targets, predictions)"
   ]
  },
  {
   "cell_type": "code",
   "execution_count": 13,
   "metadata": {},
   "outputs": [],
   "source": [
    "def plot_mae_data(mae_data):\n",
    "    # Create list of labels and colours for plotting\n",
    "    labels = [\"Random Forest Regressor\", \"Neural Network Regressor\", \"Support Vector Regressor\"]\n",
    "    colors = [\"blue\", \"red\", \"green\"]\n",
    "\n",
    "    # Alter figsize to avoid overlapping tick labels\n",
    "    plt.figure(figsize=(9.6, 7.2))\n",
    "    plt.bar([0, 1, 2], mae_data, color=colors, tick_label=labels)\n",
    "    plt.ylabel(\"Mean Absolute Error rate\")\n",
    "    plt.show()"
   ]
  },
  {
   "cell_type": "code",
   "execution_count": 14,
   "metadata": {},
   "outputs": [
    {
     "name": "stdout",
     "output_type": "stream",
     "text": [
      "[0.890049180327869, 0.43635874704213423, 0.6426239134483674]\n"
     ]
    },
    {
     "data": {
      "image/png": "[encoded data removed]",
      "text/plain": [
       "<Figure size 691.2x518.4 with 1 Axes>"
      ]
     },
     "metadata": {},
     "output_type": "display_data"
    }
   ],
   "source": [
    "rf_mae = get_mae_from_testing_data(random_forest_regressor, forest_fire_testing_data, forest_fire_testing_targets)\n",
    "nn_mae = get_mae_from_testing_data(neural_network_regressor, forest_fire_testing_data, forest_fire_testing_targets)\n",
    "sv_mae = get_mae_from_testing_data(support_vector_regressor, forest_fire_testing_data, forest_fire_testing_targets)\n",
    "\n",
    "mae_data = [rf_mae, nn_mae, sv_mae]\n",
    "print(mae_data)\n",
    "plot_mae_data(mae_data)"
   ]
  },
  {
   "cell_type": "code",
   "execution_count": 15,
   "metadata": {},
   "outputs": [],
   "source": [
    "def get_cross_validation_scores(regressor, testing_data, testing_targets):\n",
    "    return cross_val_score(regressor, testing_data, testing_targets, cv=5)"
   ]
  },
  {
   "cell_type": "code",
   "execution_count": 16,
   "metadata": {},
   "outputs": [],
   "source": [
    "def plot_cross_validation(cross_validation_data):\n",
    "    # Set up labels\n",
    "    regressor_labels = [\"Random Forest Regressor\", \"Neural Network Regressor\", \"Support Vector Regressor\"]\n",
    "    # Set figsize to avoid labels overlapping\n",
    "    plt.figure(figsize=(9.6, 7.2))\n",
    "    # Plot data with labels\n",
    "    plt.boxplot(cross_validation_data, labels=regressor_labels)\n",
    "    plt.hlines(1, 0, 4, label=\"Best possible score\")\n",
    "    \n",
    "    \n",
    "    plt.show()"
   ]
  },
  {
   "cell_type": "code",
   "execution_count": 17,
   "metadata": {},
   "outputs": [],
   "source": [
    "random_forest_scores = get_cross_validation_scores(random_forest_regressor, forest_fire_testing_data, forest_fire_testing_targets)\n",
    "neural_network_scores = get_cross_validation_scores(neural_network_regressor, forest_fire_testing_data, forest_fire_testing_targets)\n",
    "support_vector_scores = get_cross_validation_scores(support_vector_regressor, forest_fire_testing_data, forest_fire_testing_targets)"
   ]
  },
  {
   "cell_type": "code",
   "execution_count": 18,
   "metadata": {},
   "outputs": [
    {
     "name": "stdout",
     "output_type": "stream",
     "text": [
      "[0.8668452  0.90018476 0.97167047 0.99267874 0.97343636] [0.99264848 0.98204884 0.99748481 0.98808985 0.99704819] [0.9939955  0.94532929 0.9851309  0.99049782 0.99152963]\n"
     ]
    },
    {
     "data": {
      "image/png": "[encoded data removed]",
      "text/plain": [
       "<Figure size 691.2x518.4 with 1 Axes>"
      ]
     },
     "metadata": {},
     "output_type": "display_data"
    }
   ],
   "source": [
    "print(random_forest_scores, neural_network_scores, support_vector_scores)\n",
    "plot_cross_validation((random_forest_scores, neural_network_scores, support_vector_scores))"
   ]
  },
  {
   "cell_type": "markdown",
   "metadata": {},
   "source": [
    "### Optimisation"
   ]
  },
  {
   "cell_type": "code",
   "execution_count": 19,
   "metadata": {},
   "outputs": [],
   "source": [
    "cities_long_filename = \"./data/cities.txt\"\n",
    "cities_short_filename = \"./data/cities_short.txt\"\n",
    "distance_long_filename = \"./data/distances.csv\"\n",
    "distance_short_filename = \"./data/distances_short.csv\""
   ]
  },
  {
   "cell_type": "code",
   "execution_count": 20,
   "metadata": {},
   "outputs": [],
   "source": [
    "def get_total_distance_of_route(route, distance_data):\n",
    "    total_distance = 0\n",
    "    for city_index in range(0, len(route) - 1):\n",
    "        # Get the name of the city being started from and the city going to\n",
    "        city_from, city_to = route[city_index], route[city_index + 1]\n",
    "        # Get the distance between these two cities\n",
    "        single_distance = distance_data[city_from][city_to]\n",
    "        # Add to total distance\n",
    "        total_distance += single_distance\n",
    "    \n",
    "    return total_distance"
   ]
  },
  {
   "cell_type": "code",
   "execution_count": 21,
   "metadata": {},
   "outputs": [],
   "source": [
    "def get_cities(cities_filename):\n",
    "    with open(cities_filename) as cities_file:\n",
    "        # Read and use splitlines rather than readlines to avoid \\n characters on the end of city names\n",
    "        cities = cities_file.read().splitlines()\n",
    "        return cities"
   ]
  },
  {
   "cell_type": "code",
   "execution_count": 22,
   "metadata": {},
   "outputs": [],
   "source": [
    "def get_distance_data(cities_filename, distance_filename):\n",
    "    # Get cities\n",
    "    cities = get_cities(cities_filename)\n",
    "    # Read CSV and specify seperator in order to use faster C implementation of CSV reader\n",
    "    distance = pd.read_csv(distance_filename, sep=\",\", names=cities)\n",
    "    # Set index names seperately as this is not an option in the read_csv method\n",
    "    distance.index = cities\n",
    "    \n",
    "    return (cities, distance)"
   ]
  },
  {
   "cell_type": "code",
   "execution_count": 23,
   "metadata": {},
   "outputs": [
    {
     "data": {
      "text/html": [
       "<div>\n",
       "<style scoped>\n",
       "    .dataframe tbody tr th:only-of-type {\n",
       "        vertical-align: middle;\n",
       "    }\n",
       "\n",
       "    .dataframe tbody tr th {\n",
       "        vertical-align: top;\n",
       "    }\n",
       "\n",
       "    .dataframe thead th {\n",
       "        text-align: right;\n",
       "    }\n",
       "</style>\n",
       "<table border=\"1\" class=\"dataframe\">\n",
       "  <thead>\n",
       "    <tr style=\"text-align: right;\">\n",
       "      <th></th>\n",
       "      <th>Cardiff</th>\n",
       "      <th>Swansea</th>\n",
       "      <th>Bangor</th>\n",
       "      <th>Glasgow</th>\n",
       "      <th>Edinburgh</th>\n",
       "      <th>Inverness</th>\n",
       "      <th>Aberdeen</th>\n",
       "      <th>London</th>\n",
       "      <th>Plymouth</th>\n",
       "      <th>Bristol</th>\n",
       "      <th>Southampton</th>\n",
       "      <th>Norwich</th>\n",
       "      <th>Birmingham</th>\n",
       "      <th>Manchester</th>\n",
       "      <th>Liverpool</th>\n",
       "      <th>Cambridge</th>\n",
       "      <th>Brighton</th>\n",
       "      <th>Oxford</th>\n",
       "      <th>Newcastle</th>\n",
       "      <th>Leeds</th>\n",
       "    </tr>\n",
       "  </thead>\n",
       "  <tbody>\n",
       "    <tr>\n",
       "      <th>Cardiff</th>\n",
       "      <td>0.0</td>\n",
       "      <td>41.2</td>\n",
       "      <td>180.0</td>\n",
       "      <td>392.0</td>\n",
       "      <td>394.0</td>\n",
       "      <td>547</td>\n",
       "      <td>525</td>\n",
       "      <td>151.0</td>\n",
       "      <td>152</td>\n",
       "      <td>53.0</td>\n",
       "      <td>134.0</td>\n",
       "      <td>266.0</td>\n",
       "      <td>124.0</td>\n",
       "      <td>188.0</td>\n",
       "      <td>200.0</td>\n",
       "      <td>202.0</td>\n",
       "      <td>191.0</td>\n",
       "      <td>118.0</td>\n",
       "      <td>323.0</td>\n",
       "      <td>227.0</td>\n",
       "    </tr>\n",
       "    <tr>\n",
       "      <th>Swansea</th>\n",
       "      <td>41.2</td>\n",
       "      <td>0.0</td>\n",
       "      <td>157.0</td>\n",
       "      <td>428.0</td>\n",
       "      <td>430.0</td>\n",
       "      <td>583</td>\n",
       "      <td>560</td>\n",
       "      <td>187.0</td>\n",
       "      <td>187</td>\n",
       "      <td>92.1</td>\n",
       "      <td>169.0</td>\n",
       "      <td>302.0</td>\n",
       "      <td>160.0</td>\n",
       "      <td>224.0</td>\n",
       "      <td>165.0</td>\n",
       "      <td>242.0</td>\n",
       "      <td>227.0</td>\n",
       "      <td>154.0</td>\n",
       "      <td>358.0</td>\n",
       "      <td>263.0</td>\n",
       "    </tr>\n",
       "    <tr>\n",
       "      <th>Bangor</th>\n",
       "      <td>180.0</td>\n",
       "      <td>157.0</td>\n",
       "      <td>0.0</td>\n",
       "      <td>295.0</td>\n",
       "      <td>297.0</td>\n",
       "      <td>451</td>\n",
       "      <td>428</td>\n",
       "      <td>266.0</td>\n",
       "      <td>347</td>\n",
       "      <td>233.0</td>\n",
       "      <td>291.0</td>\n",
       "      <td>307.0</td>\n",
       "      <td>152.0</td>\n",
       "      <td>96.3</td>\n",
       "      <td>70.0</td>\n",
       "      <td>247.0</td>\n",
       "      <td>325.0</td>\n",
       "      <td>210.0</td>\n",
       "      <td>240.0</td>\n",
       "      <td>139.0</td>\n",
       "    </tr>\n",
       "    <tr>\n",
       "      <th>Glasgow</th>\n",
       "      <td>392.0</td>\n",
       "      <td>428.0</td>\n",
       "      <td>295.0</td>\n",
       "      <td>0.0</td>\n",
       "      <td>46.5</td>\n",
       "      <td>168</td>\n",
       "      <td>145</td>\n",
       "      <td>414.0</td>\n",
       "      <td>485</td>\n",
       "      <td>372.0</td>\n",
       "      <td>429.0</td>\n",
       "      <td>376.0</td>\n",
       "      <td>290.0</td>\n",
       "      <td>216.0</td>\n",
       "      <td>221.0</td>\n",
       "      <td>357.0</td>\n",
       "      <td>463.0</td>\n",
       "      <td>364.0</td>\n",
       "      <td>152.0</td>\n",
       "      <td>221.0</td>\n",
       "    </tr>\n",
       "    <tr>\n",
       "      <th>Edinburgh</th>\n",
       "      <td>394.0</td>\n",
       "      <td>430.0</td>\n",
       "      <td>297.0</td>\n",
       "      <td>46.5</td>\n",
       "      <td>0.0</td>\n",
       "      <td>156</td>\n",
       "      <td>127</td>\n",
       "      <td>403.0</td>\n",
       "      <td>487</td>\n",
       "      <td>373.0</td>\n",
       "      <td>431.0</td>\n",
       "      <td>373.0</td>\n",
       "      <td>292.0</td>\n",
       "      <td>217.0</td>\n",
       "      <td>222.0</td>\n",
       "      <td>354.0</td>\n",
       "      <td>465.0</td>\n",
       "      <td>366.0</td>\n",
       "      <td>120.0</td>\n",
       "      <td>218.0</td>\n",
       "    </tr>\n",
       "    <tr>\n",
       "      <th>Inverness</th>\n",
       "      <td>547.0</td>\n",
       "      <td>583.0</td>\n",
       "      <td>451.0</td>\n",
       "      <td>168.0</td>\n",
       "      <td>156.0</td>\n",
       "      <td>0</td>\n",
       "      <td>104</td>\n",
       "      <td>561.0</td>\n",
       "      <td>641</td>\n",
       "      <td>528.0</td>\n",
       "      <td>585.0</td>\n",
       "      <td>533.0</td>\n",
       "      <td>447.0</td>\n",
       "      <td>373.0</td>\n",
       "      <td>378.0</td>\n",
       "      <td>514.0</td>\n",
       "      <td>619.0</td>\n",
       "      <td>521.0</td>\n",
       "      <td>282.0</td>\n",
       "      <td>378.0</td>\n",
       "    </tr>\n",
       "    <tr>\n",
       "      <th>Aberdeen</th>\n",
       "      <td>525.0</td>\n",
       "      <td>560.0</td>\n",
       "      <td>428.0</td>\n",
       "      <td>145.0</td>\n",
       "      <td>127.0</td>\n",
       "      <td>104</td>\n",
       "      <td>0</td>\n",
       "      <td>539.0</td>\n",
       "      <td>620</td>\n",
       "      <td>506.0</td>\n",
       "      <td>563.0</td>\n",
       "      <td>510.0</td>\n",
       "      <td>425.0</td>\n",
       "      <td>351.0</td>\n",
       "      <td>355.0</td>\n",
       "      <td>491.0</td>\n",
       "      <td>597.0</td>\n",
       "      <td>499.0</td>\n",
       "      <td>254.0</td>\n",
       "      <td>356.0</td>\n",
       "    </tr>\n",
       "    <tr>\n",
       "      <th>London</th>\n",
       "      <td>151.0</td>\n",
       "      <td>187.0</td>\n",
       "      <td>266.0</td>\n",
       "      <td>414.0</td>\n",
       "      <td>403.0</td>\n",
       "      <td>561</td>\n",
       "      <td>539</td>\n",
       "      <td>0.0</td>\n",
       "      <td>215</td>\n",
       "      <td>118.0</td>\n",
       "      <td>80.1</td>\n",
       "      <td>118.0</td>\n",
       "      <td>126.0</td>\n",
       "      <td>208.0</td>\n",
       "      <td>221.0</td>\n",
       "      <td>64.0</td>\n",
       "      <td>53.5</td>\n",
       "      <td>56.1</td>\n",
       "      <td>290.0</td>\n",
       "      <td>195.0</td>\n",
       "    </tr>\n",
       "    <tr>\n",
       "      <th>Plymouth</th>\n",
       "      <td>152.0</td>\n",
       "      <td>187.0</td>\n",
       "      <td>347.0</td>\n",
       "      <td>485.0</td>\n",
       "      <td>487.0</td>\n",
       "      <td>641</td>\n",
       "      <td>620</td>\n",
       "      <td>215.0</td>\n",
       "      <td>0</td>\n",
       "      <td>121.0</td>\n",
       "      <td>152.0</td>\n",
       "      <td>359.0</td>\n",
       "      <td>211.0</td>\n",
       "      <td>281.0</td>\n",
       "      <td>293.0</td>\n",
       "      <td>299.0</td>\n",
       "      <td>217.0</td>\n",
       "      <td>205.0</td>\n",
       "      <td>416.0</td>\n",
       "      <td>321.0</td>\n",
       "    </tr>\n",
       "    <tr>\n",
       "      <th>Bristol</th>\n",
       "      <td>53.0</td>\n",
       "      <td>92.1</td>\n",
       "      <td>233.0</td>\n",
       "      <td>372.0</td>\n",
       "      <td>373.0</td>\n",
       "      <td>528</td>\n",
       "      <td>506</td>\n",
       "      <td>118.0</td>\n",
       "      <td>121</td>\n",
       "      <td>0.0</td>\n",
       "      <td>101.0</td>\n",
       "      <td>246.0</td>\n",
       "      <td>97.5</td>\n",
       "      <td>168.0</td>\n",
       "      <td>180.0</td>\n",
       "      <td>186.0</td>\n",
       "      <td>159.0</td>\n",
       "      <td>85.2</td>\n",
       "      <td>302.0</td>\n",
       "      <td>207.0</td>\n",
       "    </tr>\n",
       "    <tr>\n",
       "      <th>Southampton</th>\n",
       "      <td>134.0</td>\n",
       "      <td>169.0</td>\n",
       "      <td>291.0</td>\n",
       "      <td>429.0</td>\n",
       "      <td>431.0</td>\n",
       "      <td>585</td>\n",
       "      <td>563</td>\n",
       "      <td>80.1</td>\n",
       "      <td>152</td>\n",
       "      <td>101.0</td>\n",
       "      <td>0.0</td>\n",
       "      <td>202.0</td>\n",
       "      <td>141.0</td>\n",
       "      <td>224.0</td>\n",
       "      <td>236.0</td>\n",
       "      <td>131.0</td>\n",
       "      <td>65.4</td>\n",
       "      <td>65.9</td>\n",
       "      <td>329.0</td>\n",
       "      <td>234.0</td>\n",
       "    </tr>\n",
       "    <tr>\n",
       "      <th>Norwich</th>\n",
       "      <td>266.0</td>\n",
       "      <td>302.0</td>\n",
       "      <td>307.0</td>\n",
       "      <td>376.0</td>\n",
       "      <td>373.0</td>\n",
       "      <td>533</td>\n",
       "      <td>510</td>\n",
       "      <td>118.0</td>\n",
       "      <td>359</td>\n",
       "      <td>246.0</td>\n",
       "      <td>202.0</td>\n",
       "      <td>0.0</td>\n",
       "      <td>160.0</td>\n",
       "      <td>208.0</td>\n",
       "      <td>253.0</td>\n",
       "      <td>63.9</td>\n",
       "      <td>174.0</td>\n",
       "      <td>147.0</td>\n",
       "      <td>253.0</td>\n",
       "      <td>171.0</td>\n",
       "    </tr>\n",
       "    <tr>\n",
       "      <th>Birmingham</th>\n",
       "      <td>124.0</td>\n",
       "      <td>160.0</td>\n",
       "      <td>152.0</td>\n",
       "      <td>290.0</td>\n",
       "      <td>292.0</td>\n",
       "      <td>447</td>\n",
       "      <td>425</td>\n",
       "      <td>126.0</td>\n",
       "      <td>211</td>\n",
       "      <td>97.5</td>\n",
       "      <td>141.0</td>\n",
       "      <td>160.0</td>\n",
       "      <td>0.0</td>\n",
       "      <td>86.2</td>\n",
       "      <td>98.4</td>\n",
       "      <td>99.6</td>\n",
       "      <td>177.0</td>\n",
       "      <td>78.5</td>\n",
       "      <td>213.0</td>\n",
       "      <td>118.0</td>\n",
       "    </tr>\n",
       "    <tr>\n",
       "      <th>Manchester</th>\n",
       "      <td>188.0</td>\n",
       "      <td>224.0</td>\n",
       "      <td>96.3</td>\n",
       "      <td>216.0</td>\n",
       "      <td>217.0</td>\n",
       "      <td>373</td>\n",
       "      <td>351</td>\n",
       "      <td>208.0</td>\n",
       "      <td>281</td>\n",
       "      <td>168.0</td>\n",
       "      <td>224.0</td>\n",
       "      <td>208.0</td>\n",
       "      <td>86.2</td>\n",
       "      <td>0.0</td>\n",
       "      <td>35.4</td>\n",
       "      <td>182.0</td>\n",
       "      <td>259.0</td>\n",
       "      <td>161.0</td>\n",
       "      <td>146.0</td>\n",
       "      <td>44.6</td>\n",
       "    </tr>\n",
       "    <tr>\n",
       "      <th>Liverpool</th>\n",
       "      <td>200.0</td>\n",
       "      <td>165.0</td>\n",
       "      <td>70.0</td>\n",
       "      <td>221.0</td>\n",
       "      <td>222.0</td>\n",
       "      <td>378</td>\n",
       "      <td>355</td>\n",
       "      <td>221.0</td>\n",
       "      <td>293</td>\n",
       "      <td>180.0</td>\n",
       "      <td>236.0</td>\n",
       "      <td>253.0</td>\n",
       "      <td>98.4</td>\n",
       "      <td>35.4</td>\n",
       "      <td>0.0</td>\n",
       "      <td>194.0</td>\n",
       "      <td>272.0</td>\n",
       "      <td>173.0</td>\n",
       "      <td>174.0</td>\n",
       "      <td>73.0</td>\n",
       "    </tr>\n",
       "    <tr>\n",
       "      <th>Cambridge</th>\n",
       "      <td>202.0</td>\n",
       "      <td>242.0</td>\n",
       "      <td>247.0</td>\n",
       "      <td>357.0</td>\n",
       "      <td>354.0</td>\n",
       "      <td>514</td>\n",
       "      <td>491</td>\n",
       "      <td>64.0</td>\n",
       "      <td>299</td>\n",
       "      <td>186.0</td>\n",
       "      <td>131.0</td>\n",
       "      <td>63.9</td>\n",
       "      <td>99.6</td>\n",
       "      <td>182.0</td>\n",
       "      <td>194.0</td>\n",
       "      <td>0.0</td>\n",
       "      <td>122.0</td>\n",
       "      <td>84.0</td>\n",
       "      <td>232.0</td>\n",
       "      <td>150.0</td>\n",
       "    </tr>\n",
       "    <tr>\n",
       "      <th>Brighton</th>\n",
       "      <td>191.0</td>\n",
       "      <td>227.0</td>\n",
       "      <td>325.0</td>\n",
       "      <td>463.0</td>\n",
       "      <td>465.0</td>\n",
       "      <td>619</td>\n",
       "      <td>597</td>\n",
       "      <td>53.5</td>\n",
       "      <td>217</td>\n",
       "      <td>159.0</td>\n",
       "      <td>65.4</td>\n",
       "      <td>174.0</td>\n",
       "      <td>177.0</td>\n",
       "      <td>259.0</td>\n",
       "      <td>272.0</td>\n",
       "      <td>122.0</td>\n",
       "      <td>0.0</td>\n",
       "      <td>106.0</td>\n",
       "      <td>352.0</td>\n",
       "      <td>257.0</td>\n",
       "    </tr>\n",
       "    <tr>\n",
       "      <th>Oxford</th>\n",
       "      <td>118.0</td>\n",
       "      <td>154.0</td>\n",
       "      <td>210.0</td>\n",
       "      <td>364.0</td>\n",
       "      <td>366.0</td>\n",
       "      <td>521</td>\n",
       "      <td>499</td>\n",
       "      <td>56.1</td>\n",
       "      <td>205</td>\n",
       "      <td>85.2</td>\n",
       "      <td>65.9</td>\n",
       "      <td>147.0</td>\n",
       "      <td>78.5</td>\n",
       "      <td>161.0</td>\n",
       "      <td>173.0</td>\n",
       "      <td>84.0</td>\n",
       "      <td>106.0</td>\n",
       "      <td>0.0</td>\n",
       "      <td>258.0</td>\n",
       "      <td>170.0</td>\n",
       "    </tr>\n",
       "    <tr>\n",
       "      <th>Newcastle</th>\n",
       "      <td>323.0</td>\n",
       "      <td>358.0</td>\n",
       "      <td>240.0</td>\n",
       "      <td>152.0</td>\n",
       "      <td>120.0</td>\n",
       "      <td>282</td>\n",
       "      <td>254</td>\n",
       "      <td>290.0</td>\n",
       "      <td>416</td>\n",
       "      <td>302.0</td>\n",
       "      <td>329.0</td>\n",
       "      <td>253.0</td>\n",
       "      <td>213.0</td>\n",
       "      <td>146.0</td>\n",
       "      <td>174.0</td>\n",
       "      <td>232.0</td>\n",
       "      <td>352.0</td>\n",
       "      <td>258.0</td>\n",
       "      <td>0.0</td>\n",
       "      <td>98.2</td>\n",
       "    </tr>\n",
       "    <tr>\n",
       "      <th>Leeds</th>\n",
       "      <td>227.0</td>\n",
       "      <td>263.0</td>\n",
       "      <td>139.0</td>\n",
       "      <td>221.0</td>\n",
       "      <td>218.0</td>\n",
       "      <td>378</td>\n",
       "      <td>356</td>\n",
       "      <td>195.0</td>\n",
       "      <td>321</td>\n",
       "      <td>207.0</td>\n",
       "      <td>234.0</td>\n",
       "      <td>171.0</td>\n",
       "      <td>118.0</td>\n",
       "      <td>44.6</td>\n",
       "      <td>73.0</td>\n",
       "      <td>150.0</td>\n",
       "      <td>257.0</td>\n",
       "      <td>170.0</td>\n",
       "      <td>98.2</td>\n",
       "      <td>0.0</td>\n",
       "    </tr>\n",
       "  </tbody>\n",
       "</table>\n",
       "</div>"
      ],
      "text/plain": [
       "             Cardiff  Swansea  Bangor  Glasgow  Edinburgh  Inverness  \\\n",
       "Cardiff          0.0     41.2   180.0    392.0      394.0        547   \n",
       "Swansea         41.2      0.0   157.0    428.0      430.0        583   \n",
       "Bangor         180.0    157.0     0.0    295.0      297.0        451   \n",
       "Glasgow        392.0    428.0   295.0      0.0       46.5        168   \n",
       "Edinburgh      394.0    430.0   297.0     46.5        0.0        156   \n",
       "Inverness      547.0    583.0   451.0    168.0      156.0          0   \n",
       "Aberdeen       525.0    560.0   428.0    145.0      127.0        104   \n",
       "London         151.0    187.0   266.0    414.0      403.0        561   \n",
       "Plymouth       152.0    187.0   347.0    485.0      487.0        641   \n",
       "Bristol         53.0     92.1   233.0    372.0      373.0        528   \n",
       "Southampton    134.0    169.0   291.0    429.0      431.0        585   \n",
       "Norwich        266.0    302.0   307.0    376.0      373.0        533   \n",
       "Birmingham     124.0    160.0   152.0    290.0      292.0        447   \n",
       "Manchester     188.0    224.0    96.3    216.0      217.0        373   \n",
       "Liverpool      200.0    165.0    70.0    221.0      222.0        378   \n",
       "Cambridge      202.0    242.0   247.0    357.0      354.0        514   \n",
       "Brighton       191.0    227.0   325.0    463.0      465.0        619   \n",
       "Oxford         118.0    154.0   210.0    364.0      366.0        521   \n",
       "Newcastle      323.0    358.0   240.0    152.0      120.0        282   \n",
       "Leeds          227.0    263.0   139.0    221.0      218.0        378   \n",
       "\n",
       "             Aberdeen  London  Plymouth  Bristol  Southampton  Norwich  \\\n",
       "Cardiff           525   151.0       152     53.0        134.0    266.0   \n",
       "Swansea           560   187.0       187     92.1        169.0    302.0   \n",
       "Bangor            428   266.0       347    233.0        291.0    307.0   \n",
       "Glasgow           145   414.0       485    372.0        429.0    376.0   \n",
       "Edinburgh         127   403.0       487    373.0        431.0    373.0   \n",
       "Inverness         104   561.0       641    528.0        585.0    533.0   \n",
       "Aberdeen            0   539.0       620    506.0        563.0    510.0   \n",
       "London            539     0.0       215    118.0         80.1    118.0   \n",
       "Plymouth          620   215.0         0    121.0        152.0    359.0   \n",
       "Bristol           506   118.0       121      0.0        101.0    246.0   \n",
       "Southampton       563    80.1       152    101.0          0.0    202.0   \n",
       "Norwich           510   118.0       359    246.0        202.0      0.0   \n",
       "Birmingham        425   126.0       211     97.5        141.0    160.0   \n",
       "Manchester        351   208.0       281    168.0        224.0    208.0   \n",
       "Liverpool         355   221.0       293    180.0        236.0    253.0   \n",
       "Cambridge         491    64.0       299    186.0        131.0     63.9   \n",
       "Brighton          597    53.5       217    159.0         65.4    174.0   \n",
       "Oxford            499    56.1       205     85.2         65.9    147.0   \n",
       "Newcastle         254   290.0       416    302.0        329.0    253.0   \n",
       "Leeds             356   195.0       321    207.0        234.0    171.0   \n",
       "\n",
       "             Birmingham  Manchester  Liverpool  Cambridge  Brighton  Oxford  \\\n",
       "Cardiff           124.0       188.0      200.0      202.0     191.0   118.0   \n",
       "Swansea           160.0       224.0      165.0      242.0     227.0   154.0   \n",
       "Bangor            152.0        96.3       70.0      247.0     325.0   210.0   \n",
       "Glasgow           290.0       216.0      221.0      357.0     463.0   364.0   \n",
       "Edinburgh         292.0       217.0      222.0      354.0     465.0   366.0   \n",
       "Inverness         447.0       373.0      378.0      514.0     619.0   521.0   \n",
       "Aberdeen          425.0       351.0      355.0      491.0     597.0   499.0   \n",
       "London            126.0       208.0      221.0       64.0      53.5    56.1   \n",
       "Plymouth          211.0       281.0      293.0      299.0     217.0   205.0   \n",
       "Bristol            97.5       168.0      180.0      186.0     159.0    85.2   \n",
       "Southampton       141.0       224.0      236.0      131.0      65.4    65.9   \n",
       "Norwich           160.0       208.0      253.0       63.9     174.0   147.0   \n",
       "Birmingham          0.0        86.2       98.4       99.6     177.0    78.5   \n",
       "Manchester         86.2         0.0       35.4      182.0     259.0   161.0   \n",
       "Liverpool          98.4        35.4        0.0      194.0     272.0   173.0   \n",
       "Cambridge          99.6       182.0      194.0        0.0     122.0    84.0   \n",
       "Brighton          177.0       259.0      272.0      122.0       0.0   106.0   \n",
       "Oxford             78.5       161.0      173.0       84.0     106.0     0.0   \n",
       "Newcastle         213.0       146.0      174.0      232.0     352.0   258.0   \n",
       "Leeds             118.0        44.6       73.0      150.0     257.0   170.0   \n",
       "\n",
       "             Newcastle  Leeds  \n",
       "Cardiff          323.0  227.0  \n",
       "Swansea          358.0  263.0  \n",
       "Bangor           240.0  139.0  \n",
       "Glasgow          152.0  221.0  \n",
       "Edinburgh        120.0  218.0  \n",
       "Inverness        282.0  378.0  \n",
       "Aberdeen         254.0  356.0  \n",
       "London           290.0  195.0  \n",
       "Plymouth         416.0  321.0  \n",
       "Bristol          302.0  207.0  \n",
       "Southampton      329.0  234.0  \n",
       "Norwich          253.0  171.0  \n",
       "Birmingham       213.0  118.0  \n",
       "Manchester       146.0   44.6  \n",
       "Liverpool        174.0   73.0  \n",
       "Cambridge        232.0  150.0  \n",
       "Brighton         352.0  257.0  \n",
       "Oxford           258.0  170.0  \n",
       "Newcastle          0.0   98.2  \n",
       "Leeds             98.2    0.0  "
      ]
     },
     "metadata": {},
     "output_type": "display_data"
    },
    {
     "data": {
      "text/html": [
       "<div>\n",
       "<style scoped>\n",
       "    .dataframe tbody tr th:only-of-type {\n",
       "        vertical-align: middle;\n",
       "    }\n",
       "\n",
       "    .dataframe tbody tr th {\n",
       "        vertical-align: top;\n",
       "    }\n",
       "\n",
       "    .dataframe thead th {\n",
       "        text-align: right;\n",
       "    }\n",
       "</style>\n",
       "<table border=\"1\" class=\"dataframe\">\n",
       "  <thead>\n",
       "    <tr style=\"text-align: right;\">\n",
       "      <th></th>\n",
       "      <th>Plymouth</th>\n",
       "      <th>Bristol</th>\n",
       "      <th>London</th>\n",
       "      <th>Cardiff</th>\n",
       "      <th>Edinburgh</th>\n",
       "    </tr>\n",
       "  </thead>\n",
       "  <tbody>\n",
       "    <tr>\n",
       "      <th>Plymouth</th>\n",
       "      <td>0</td>\n",
       "      <td>394</td>\n",
       "      <td>151</td>\n",
       "      <td>152</td>\n",
       "      <td>53</td>\n",
       "    </tr>\n",
       "    <tr>\n",
       "      <th>Bristol</th>\n",
       "      <td>394</td>\n",
       "      <td>0</td>\n",
       "      <td>403</td>\n",
       "      <td>487</td>\n",
       "      <td>373</td>\n",
       "    </tr>\n",
       "    <tr>\n",
       "      <th>London</th>\n",
       "      <td>151</td>\n",
       "      <td>403</td>\n",
       "      <td>0</td>\n",
       "      <td>215</td>\n",
       "      <td>118</td>\n",
       "    </tr>\n",
       "    <tr>\n",
       "      <th>Cardiff</th>\n",
       "      <td>152</td>\n",
       "      <td>487</td>\n",
       "      <td>215</td>\n",
       "      <td>0</td>\n",
       "      <td>121</td>\n",
       "    </tr>\n",
       "    <tr>\n",
       "      <th>Edinburgh</th>\n",
       "      <td>53</td>\n",
       "      <td>373</td>\n",
       "      <td>118</td>\n",
       "      <td>121</td>\n",
       "      <td>0</td>\n",
       "    </tr>\n",
       "  </tbody>\n",
       "</table>\n",
       "</div>"
      ],
      "text/plain": [
       "           Plymouth  Bristol  London  Cardiff  Edinburgh\n",
       "Plymouth          0      394     151      152         53\n",
       "Bristol         394        0     403      487        373\n",
       "London          151      403       0      215        118\n",
       "Cardiff         152      487     215        0        121\n",
       "Edinburgh        53      373     118      121          0"
      ]
     },
     "metadata": {},
     "output_type": "display_data"
    }
   ],
   "source": [
    "cities_long, distance_long = get_distance_data(cities_long_filename, distance_long_filename)\n",
    "cities_short, distance_short = get_distance_data(cities_short_filename, distance_short_filename)\n",
    "\n",
    "display(distance_long)\n",
    "display(distance_short)"
   ]
  },
  {
   "cell_type": "code",
   "execution_count": 24,
   "metadata": {},
   "outputs": [
    {
     "name": "stdout",
     "output_type": "stream",
     "text": [
      "3037.4999999999995\n",
      "1133\n"
     ]
    }
   ],
   "source": [
    "default_long_distance = get_total_distance_of_route(cities_long, distance_long)\n",
    "default_short_distance = get_total_distance_of_route(cities_short, distance_short)\n",
    "print(default_long_distance)\n",
    "print(default_short_distance)"
   ]
  },
  {
   "cell_type": "code",
   "execution_count": 25,
   "metadata": {},
   "outputs": [],
   "source": [
    "def get_random_route(cities_filename):\n",
    "    cities = get_cities(cities_filename)\n",
    "    shuffle(cities)\n",
    "    return cities"
   ]
  },
  {
   "cell_type": "code",
   "execution_count": 26,
   "metadata": {},
   "outputs": [
    {
     "name": "stdout",
     "output_type": "stream",
     "text": [
      "['Cambridge', 'Cardiff', 'Glasgow', 'Bristol', 'Swansea', 'Southampton', 'Birmingham', 'Liverpool', 'Plymouth', 'Edinburgh', 'Manchester', 'Oxford', 'London', 'Norwich', 'Bangor', 'Inverness', 'Newcastle', 'Aberdeen', 'Leeds', 'Brighton']\n",
      "4705.6\n",
      "['Glasgow', 'Southampton', 'Bangor', 'Bristol', 'Manchester', 'Inverness', 'Plymouth', 'Edinburgh', 'Aberdeen', 'Oxford', 'Swansea', 'Newcastle', 'Norwich', 'London', 'Cardiff', 'Brighton', 'Birmingham', 'Leeds', 'Cambridge', 'Liverpool']\n",
      "5112.0\n",
      "['Cambridge', 'Leeds', 'Liverpool', 'Edinburgh', 'Bangor', 'Birmingham', 'London', 'Bristol', 'Southampton', 'Plymouth', 'Glasgow', 'Norwich', 'Oxford', 'Newcastle', 'Cardiff', 'Swansea', 'Brighton', 'Inverness', 'Manchester', 'Aberdeen']\n",
      "4591.2\n",
      "['London', 'Edinburgh', 'Bristol', 'Plymouth', 'Cardiff']\n",
      "1037\n",
      "['Bristol', 'Cardiff', 'Plymouth', 'Edinburgh', 'London']\n",
      "810\n",
      "['Edinburgh', 'Plymouth', 'Cardiff', 'London', 'Bristol']\n",
      "823\n"
     ]
    }
   ],
   "source": [
    "for i in range(0, 3):\n",
    "    random_long = get_random_route(cities_long_filename)\n",
    "    print(random_long)\n",
    "    print(get_total_distance_of_route(random_long, distance_long))\n",
    "    \n",
    "for i in range(0, 3):\n",
    "    random_short = get_random_route(cities_short_filename)\n",
    "    print(random_short)\n",
    "    print(get_total_distance_of_route(random_short, distance_short))"
   ]
  },
  {
   "cell_type": "code",
   "execution_count": 27,
   "metadata": {},
   "outputs": [],
   "source": [
    "def less_than_or_equal(score_1, score_2):\n",
    "    return score_1 <= score_2"
   ]
  },
  {
   "cell_type": "code",
   "execution_count": 28,
   "metadata": {},
   "outputs": [],
   "source": [
    "def swap(route):\n",
    "    new_route = route.copy()\n",
    "    \n",
    "    index_1 = randint(0, len(new_route) - 1)\n",
    "    index_2 = randint(0, len(new_route) - 1)\n",
    "    \n",
    "    new_route[index_1], new_route[index_2] = new_route[index_2], new_route[index_1]\n",
    "    \n",
    "    return new_route"
   ]
  },
  {
   "cell_type": "code",
   "execution_count": 29,
   "metadata": {},
   "outputs": [],
   "source": [
    "def ruin_and_recreate(route):\n",
    "    new_route = route.copy()\n",
    "    \n",
    "    shuffle(new_route)\n",
    "    return new_route"
   ]
  },
  {
   "cell_type": "code",
   "execution_count": 30,
   "metadata": {},
   "outputs": [],
   "source": [
    "def solve(parent_solution, parent_solution_score, distance, mutation_function, archive):\n",
    "    \n",
    "    # Mutate parent solution to create child\n",
    "    child_solution = mutation_function(parent_solution)\n",
    "    \n",
    "    # Evaluate child\n",
    "    child_solution_score = get_total_distance_of_route(child_solution, distance)\n",
    "    \n",
    "    # Compare parent and child, if child solution is better then\n",
    "    if less_than_or_equal(child_solution_score, parent_solution_score):\n",
    "        best_solution = child_solution\n",
    "        best_solution_score = child_solution_score\n",
    "    else:\n",
    "        best_solution = parent_solution\n",
    "        best_solution_score = parent_solution_score\n",
    "    \n",
    "    archive.append(best_solution_score)\n",
    "    return best_solution, best_solution_score, archive\n",
    "        "
   ]
  },
  {
   "cell_type": "code",
   "execution_count": 31,
   "metadata": {},
   "outputs": [],
   "source": [
    "def optimise(cities_filename, distance_filename, mutation_function, iterations):\n",
    "    \n",
    "    cities, distance = get_distance_data(cities_filename, distance_filename)\n",
    "    # Generate random solution to start with\n",
    "    best_solution = get_random_route(cities_filename)\n",
    "    \n",
    "    # Evaluate random solution\n",
    "    best_solution_score = get_total_distance_of_route(best_solution, distance)\n",
    "    \n",
    "    archive = []\n",
    "    \n",
    "    for iteration in range(0, iterations):\n",
    "        # Create new solutions\n",
    "        best_solution, best_solution_score, archive = solve(best_solution, best_solution_score, distance, mutation_function, archive)\n",
    "    \n",
    "    return best_solution, best_solution_score, np.array(archive)\n",
    "    "
   ]
  },
  {
   "cell_type": "code",
   "execution_count": 32,
   "metadata": {},
   "outputs": [
    {
     "name": "stdout",
     "output_type": "stream",
     "text": [
      "['Cambridge', 'Leeds', 'Norwich', 'Oxford', 'Bristol', 'Swansea', 'Plymouth', 'London', 'Southampton', 'Newcastle', 'Bangor', 'Cardiff', 'Birmingham', 'Edinburgh', 'Inverness', 'Aberdeen', 'Glasgow', 'Liverpool', 'Manchester', 'Brighton']\n",
      "3212.8\n",
      "[5418.5 5310.  4953.7 4953.7 4953.7 4953.7 4906.2 4051.9 3936.9 3936.9\n",
      " 3936.9 3935.9 3935.9 3935.9 3935.9 3935.9 3935.9 3935.9 3935.9 3348.\n",
      " 3348.  3348.  3348.  3348.  3348.  3348.  3348.  3348.  3348.  3212.8]\n"
     ]
    }
   ],
   "source": [
    "best_long_swap_solution, best_long_swap_solution_score, long_swap_archive = optimise(cities_long_filename, distance_long_filename, swap, 30)\n",
    "print(best_long_swap_solution)\n",
    "print(best_long_swap_solution_score)\n",
    "print(long_swap_archive)"
   ]
  },
  {
   "cell_type": "code",
   "execution_count": 33,
   "metadata": {},
   "outputs": [
    {
     "name": "stdout",
     "output_type": "stream",
     "text": [
      "['Edinburgh', 'Manchester', 'Southampton', 'Cambridge', 'London', 'Bangor', 'Birmingham', 'Plymouth', 'Aberdeen', 'Inverness', 'Glasgow', 'Leeds', 'Newcastle', 'Norwich', 'Swansea', 'Cardiff', 'Oxford', 'Bristol', 'Brighton', 'Liverpool']\n",
      "3706.5999999999995\n",
      "[5198.4 5198.4 4865.1 4865.1 4865.1 4681.9 4681.9 4434.6 4434.6 4298.7\n",
      " 4013.1 4013.1 3706.6 3706.6 3706.6 3706.6 3706.6 3706.6 3706.6 3706.6\n",
      " 3706.6 3706.6 3706.6 3706.6 3706.6 3706.6 3706.6 3706.6 3706.6 3706.6]\n"
     ]
    }
   ],
   "source": [
    "best_long_rr_solution, best_long_rr_solution_score, long_rr_archive = optimise(cities_long_filename, distance_long_filename, ruin_and_recreate, 30)\n",
    "print(best_long_rr_solution)\n",
    "print(best_long_rr_solution_score)\n",
    "print(long_rr_archive)"
   ]
  },
  {
   "cell_type": "code",
   "execution_count": 34,
   "metadata": {},
   "outputs": [
    {
     "name": "stdout",
     "output_type": "stream",
     "text": [
      "['Cardiff', 'Edinburgh', 'Plymouth', 'London', 'Bristol']\n",
      "728\n",
      "[873 873 858 858 858 858 858 858 793 793 793 793 793 793 793 793 793 793\n",
      " 793 793 793 793 792 728 728 728 728 728 728 728]\n"
     ]
    }
   ],
   "source": [
    "best_short_swap_solution, best_short_swap_solution_score, short_swap_archive = optimise(cities_short_filename, distance_short_filename, swap, 30)\n",
    "print(best_short_swap_solution)\n",
    "print(best_short_swap_solution_score)\n",
    "print(short_swap_archive)"
   ]
  },
  {
   "cell_type": "code",
   "execution_count": 35,
   "metadata": {},
   "outputs": [
    {
     "name": "stdout",
     "output_type": "stream",
     "text": [
      "['Bristol', 'London', 'Edinburgh', 'Plymouth', 'Cardiff']\n",
      "726\n",
      "[1133  793  793  793  793  793  793  793  793  793  793  793  726  726\n",
      "  726  726  726  726  726  726  726  726  726  726  726  726  726  726\n",
      "  726  726]\n"
     ]
    }
   ],
   "source": [
    "best_short_rr_solution, best_short_rr_solution_score, short_rr_archive = optimise(cities_short_filename, distance_short_filename, ruin_and_recreate, 30)\n",
    "print(best_short_rr_solution)\n",
    "print(best_short_rr_solution_score)\n",
    "print(short_rr_archive)"
   ]
  },
  {
   "cell_type": "code",
   "execution_count": 36,
   "metadata": {},
   "outputs": [],
   "source": [
    "def run_experiment(cities_filename, distance_filename, mutation):\n",
    "    all_archives = []\n",
    "    for i in range(30):\n",
    "        best_solution, best_solution_score, archive = optimise(cities_filename, distance_filename, mutation, 100)\n",
    "        all_archives.append(archive)\n",
    "    \n",
    "    return np.array(all_archives)"
   ]
  },
  {
   "cell_type": "code",
   "execution_count": 42,
   "metadata": {},
   "outputs": [],
   "source": [
    "long_swap_experiment = run_experiment(cities_long_filename, distance_long_filename, swap)\n",
    "long_rr_experiment = run_experiment(cities_long_filename, distance_long_filename, ruin_and_recreate)\n",
    "short_swap_experiment = run_experiment(cities_short_filename, distance_short_filename, swap)\n",
    "short_rr_experiment = run_experiment(cities_short_filename, distance_short_filename, ruin_and_recreate)"
   ]
  },
  {
   "cell_type": "code",
   "execution_count": 44,
   "metadata": {},
   "outputs": [],
   "source": [
    "def plot_experiment_data(swap_experiment, rr_experiment, title):\n",
    "    plt.figure(figsize=(19.2, 14.4))\n",
    "    plt.title(title)\n",
    "    plt.xlabel(\"Iterations\")\n",
    "    plt.ylabel(\"Distance travelled\")\n",
    "    \n",
    "    swap_mean = swap_experiment.mean(axis=0)\n",
    "    swap_max = swap_experiment.max(axis=0)\n",
    "    swap_min = swap_experiment.min(axis=0)\n",
    "\n",
    "    rr_mean = rr_experiment.mean(axis=0)\n",
    "    rr_max = rr_experiment.max(axis=0)\n",
    "    rr_min = rr_experiment.min(axis=0)\n",
    "\n",
    "    plt.plot(swap_mean, \"bo-\", markersize=8, label=\"Swap - mean\")\n",
    "    plt.plot(swap_max, \"b^-\", markersize=8, label=\"Swap - max\")\n",
    "    plt.plot(swap_min, \"bv-\", markersize=8, label=\"Swap - min\")\n",
    "    plt.plot(rr_mean, \"ro-\", markersize=8, label=\"Ruin and recreate - mean\")\n",
    "    plt.plot(rr_max, \"r^-\", markersize=8, label=\"Ruin and recreate - max\")\n",
    "    plt.plot(rr_min, \"rv-\", markersize=8, label=\"Ruin and recreate - min\")\n",
    "    plt.fill_between(range(len(swap_mean)), swap_mean, swap_max, alpha=0.2, color=\"blue\")\n",
    "    plt.fill_between(range(len(swap_mean)), swap_mean, swap_min, alpha=0.2, color=\"blue\")\n",
    "    plt.fill_between(range(len(rr_mean)), rr_mean, rr_max, alpha=0.2, color=\"red\")\n",
    "    plt.fill_between(range(len(rr_mean)), rr_mean, rr_min, alpha=0.2, color=\"red\")\n",
    "\n",
    "    plt.legend()\n",
    "\n",
    "    plt.tight_layout()"
   ]
  },
  {
   "cell_type": "code",
   "execution_count": 45,
   "metadata": {},
   "outputs": [
    {
     "data": {
      "image/png": "[encoded data removed]",
      "text/plain": [
       "<Figure size 1382.4x1036.8 with 1 Axes>"
      ]
     },
     "metadata": {},
     "output_type": "display_data"
    },
    {
     "data": {
      "image/png": "[encoded data removed]",
      "text/plain": [
       "<Figure size 1382.4x1036.8 with 1 Axes>"
      ]
     },
     "metadata": {},
     "output_type": "display_data"
    }
   ],
   "source": [
    "plot_experiment_data(long_swap_experiment, long_rr_experiment, \"Swap and Ruin and Recreate operators on long TSP dataset\")\n",
    "plot_experiment_data(short_swap_experiment, short_rr_experiment, \"Swap and Ruin and Recreate operators on short TSP dataset\")"
   ]
  },
  {
   "cell_type": "code",
   "execution_count": null,
   "metadata": {},
   "outputs": [],
   "source": []
  }
 ],
 "metadata": {
  "kernelspec": {
   "display_name": "Python 3",
   "language": "python",
   "name": "python3"
  },
  "language_info": {
   "codemirror_mode": {
    "name": "ipython",
    "version": 3
   },
   "file_extension": ".py",
   "mimetype": "text/x-python",
   "name": "python",
   "nbconvert_exporter": "python",
   "pygments_lexer": "ipython3",
   "version": "3.6.5"
  }
 },
 "nbformat": 4,
 "nbformat_minor": 2
}
