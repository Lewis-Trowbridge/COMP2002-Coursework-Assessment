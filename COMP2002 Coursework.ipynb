{
 "cells": [
  {
   "cell_type": "markdown",
   "metadata": {},
   "source": [
    "# COMP2002 Assessment\n",
    "\n",
    "This notebook will contain demonstrations of:\n",
    "- Regression models trained to predict the Fire Weather Index (FWI) at a given time based on 12 numerical inputs from records of forest fires in 2 regions of Algeria.\n",
    "- Optimisers designed to optimise routes between cities in the Travelling Salesman Problem."
   ]
  },
  {
   "cell_type": "code",
   "execution_count": 4,
   "metadata": {},
   "outputs": [],
   "source": [
    "import pandas as pd\n",
    "from sklearn.preprocessing import MinMaxScaler\n",
    "from sklearn.ensemble import RandomForestRegressor\n",
    "from sklearn.neural_network import MLPRegressor\n",
    "from sklearn.svm import SVR\n",
    "from sklearn.metrics import mean_absolute_error\n",
    "from sklearn.model_selection import cross_val_score\n",
    "import matplotlib.pyplot as plt"
   ]
  },
  {
   "cell_type": "markdown",
   "metadata": {},
   "source": [
    "### Regression"
   ]
  },
  {
   "cell_type": "code",
   "execution_count": 2,
   "metadata": {},
   "outputs": [],
   "source": [
    "# Load forest file data using Pandas\n",
    "forest_fire_region_1_data = pd.read_csv(\"./data/AlgerianFF_Region1.csv\")\n",
    "forest_fire_region_2_data = pd.read_csv(\"./data/AlgerianFF_Region2.csv\")"
   ]
  },
  {
   "cell_type": "code",
   "execution_count": 3,
   "metadata": {},
   "outputs": [],
   "source": [
    "# Copy data to avoid making permanent unrecoverable changes to the original\n",
    "forest_fire_region_1_training_data = forest_fire_region_1_data.copy()\n",
    "forest_fire_region_2_training_data = forest_fire_region_2_data.copy()\n",
    "\n",
    "# Seperate FWI from the rest of the data, as this is the output we want to generate\n",
    "forest_fire_region_1_training_targets = forest_fire_region_1_training_data.pop(\"FWI\")\n",
    "forest_fire_region_2_training_targets = forest_fire_region_2_training_data.pop(\"FWI\")"
   ]
  },
  {
   "cell_type": "code",
   "execution_count": 4,
   "metadata": {},
   "outputs": [
    {
     "name": "stdout",
     "output_type": "stream",
     "text": [
      "[1.         1.         0.         0.75       0.63768116 0.65217391\n",
      " 1.         0.91543027 0.82055215 1.         0.65789474 0.99103139]\n",
      "[1.         1.         0.         0.9        1.         1.\n",
      " 0.51785714 0.8620178  0.99693252 0.79625293 0.99473684 0.9955157 ]\n"
     ]
    }
   ],
   "source": [
    "# Create separate scalers for each dataset\n",
    "ffr_1_scaler = MinMaxScaler()\n",
    "ffr_2_scaler = MinMaxScaler()\n",
    "\n",
    "# Fit each scaler on its own dataset\n",
    "ffr_1_scaler.partial_fit(forest_fire_region_1_training_data)\n",
    "ffr_1_scaler.partial_fit(forest_fire_region_2_training_data)\n",
    "\n",
    "# Normalise each dataset using the now fitted scalers\n",
    "scaled_ffr_1_training_data = ffr_1_scaler.transform(forest_fire_region_1_training_data)\n",
    "scaled_ffr_2_training_data = ffr_1_scaler.transform(forest_fire_region_2_training_data)\n",
    "print(scaled_ffr_1_training_data.ptp(axis=0))\n",
    "print(scaled_ffr_2_training_data.ptp(axis=0))"
   ]
  },
  {
   "cell_type": "code",
   "execution_count": 5,
   "metadata": {},
   "outputs": [],
   "source": [
    "# Initialise regressor objects\n",
    "random_forest_regressor = RandomForestRegressor(n_estimators=100)\n",
    "# Set activaion to tanh and solver to lbfgs for better performance on smaller datasets\n",
    "neural_network_regressor = MLPRegressor(solver='lbfgs', activation='tanh')\n",
    "# Set kernel to linear for better performance\n",
    "support_vector_regressor = SVR(kernel='linear', C=6.0)"
   ]
  },
  {
   "cell_type": "code",
   "execution_count": 6,
   "metadata": {},
   "outputs": [
    {
     "data": {
      "text/plain": [
       "SVR(C=6.0, cache_size=200, coef0=0.0, degree=3, epsilon=0.1, gamma='auto',\n",
       "  kernel='linear', max_iter=-1, shrinking=True, tol=0.001, verbose=False)"
      ]
     },
     "execution_count": 6,
     "metadata": {},
     "output_type": "execute_result"
    }
   ],
   "source": [
    "# Train regressors on training data\n",
    "random_forest_regressor.fit(scaled_ffr_1_training_data, forest_fire_region_1_training_targets)\n",
    "neural_network_regressor.fit(scaled_ffr_1_training_data, forest_fire_region_1_training_targets)\n",
    "support_vector_regressor.fit(scaled_ffr_1_training_data, forest_fire_region_1_training_targets)"
   ]
  },
  {
   "cell_type": "code",
   "execution_count": 7,
   "metadata": {},
   "outputs": [],
   "source": [
    "def test_on_point_in_dataset(regressor, point_index):\n",
    "    prediction = regressor.predict(scaled_ffr_1_training_data[point_index].reshape(1, 12))\n",
    "    prediction_string = f\"Real: {forest_fire_region_1_training_targets[point_index]}\\nPredicted by regressor: {prediction[0]}\"\n",
    "    return prediction_string"
   ]
  },
  {
   "cell_type": "code",
   "execution_count": 8,
   "metadata": {},
   "outputs": [
    {
     "name": "stdout",
     "output_type": "stream",
     "text": [
      "Real: 0.5\n",
      "Predicted by regressor: 0.521\n"
     ]
    }
   ],
   "source": [
    "# Use trained random forest regressor to predict the first point in the training dataset\n",
    "print(test_on_point_in_dataset(random_forest_regressor, 0))"
   ]
  },
  {
   "cell_type": "code",
   "execution_count": 9,
   "metadata": {},
   "outputs": [
    {
     "name": "stdout",
     "output_type": "stream",
     "text": [
      "Real: 0.5\n",
      "Predicted by regressor: 0.5741046798906451\n"
     ]
    }
   ],
   "source": [
    "# Use trained neural network regressor to predict the first point in the training dataset\n",
    "print(test_on_point_in_dataset(neural_network_regressor, 0))"
   ]
  },
  {
   "cell_type": "code",
   "execution_count": 10,
   "metadata": {},
   "outputs": [
    {
     "name": "stdout",
     "output_type": "stream",
     "text": [
      "Real: 0.5\n",
      "Predicted by regressor: 0.40019701075236347\n"
     ]
    }
   ],
   "source": [
    "# Use trained support vector regressor to predict the first point in the training dataset\n",
    "print(test_on_point_in_dataset(support_vector_regressor, 0))"
   ]
  },
  {
   "cell_type": "code",
   "execution_count": 11,
   "metadata": {},
   "outputs": [],
   "source": [
    "def get_mae_from_testing_data(regressor, testing_data, testing_targets):\n",
    "    predictions = regressor.predict(testing_data)\n",
    "    return mean_absolute_error(testing_targets, predictions)"
   ]
  },
  {
   "cell_type": "code",
   "execution_count": 12,
   "metadata": {},
   "outputs": [],
   "source": [
    "def plot_mae_data(mae_data):\n",
    "    # Create list of labels and colours for plotting\n",
    "    labels = [\"Random Forest Regressor\", \"Neural Network Regressor\", \"Support Vector Regressor\"]\n",
    "    colors = [\"blue\", \"red\", \"green\"]\n",
    "\n",
    "    # Alter figsize to avoid overlapping tick labels\n",
    "    plt.figure(figsize=(9.6, 7.2))\n",
    "    plt.bar([0, 1, 2], mae_data, color=colors, tick_label=labels)\n",
    "    plt.ylabel(\"Mean Absolute Error rate\")\n",
    "    plt.show()"
   ]
  },
  {
   "cell_type": "code",
   "execution_count": 13,
   "metadata": {},
   "outputs": [
    {
     "name": "stdout",
     "output_type": "stream",
     "text": [
      "[1.1295819672131147, 0.46773129987126666, 0.6680912805030614]\n"
     ]
    },
    {
     "data": {
      "image/png": "[encoded data removed]",
      "text/plain": [
       "<Figure size 691.2x518.4 with 1 Axes>"
      ]
     },
     "metadata": {},
     "output_type": "display_data"
    }
   ],
   "source": [
    "rf_mae = get_mae_from_testing_data(random_forest_regressor, scaled_ffr_2_training_data, forest_fire_region_2_training_targets)\n",
    "nn_mae = get_mae_from_testing_data(neural_network_regressor, scaled_ffr_2_training_data, forest_fire_region_2_training_targets)\n",
    "sv_mae = get_mae_from_testing_data(support_vector_regressor, scaled_ffr_2_training_data, forest_fire_region_2_training_targets)\n",
    "\n",
    "mae_data = [rf_mae, nn_mae, sv_mae]\n",
    "print(mae_data)\n",
    "plot_mae_data(mae_data)"
   ]
  },
  {
   "cell_type": "code",
   "execution_count": 14,
   "metadata": {},
   "outputs": [],
   "source": [
    "def get_cross_validation_scores(regressor, testing_data, testing_targets):\n",
    "    return cross_val_score(regressor, testing_data, testing_targets, cv=5)"
   ]
  },
  {
   "cell_type": "code",
   "execution_count": 15,
   "metadata": {},
   "outputs": [],
   "source": [
    "def plot_cross_validation(cross_validation_data):\n",
    "    # Set up labels\n",
    "    regressor_labels = [\"Random Forest Regressor\", \"Neural Network Regressor\", \"Support Vector Regressor\"]\n",
    "    # Set figsize to avoid labels overlapping\n",
    "    plt.figure(figsize=(9.6, 7.2))\n",
    "    # Plot data with labels\n",
    "    plt.boxplot(cross_validation_data, labels=regressor_labels)\n",
    "    plt.hlines(1, 0, 4, label=\"Best possible score\")\n",
    "    \n",
    "    \n",
    "    plt.show()"
   ]
  },
  {
   "cell_type": "code",
   "execution_count": 16,
   "metadata": {},
   "outputs": [],
   "source": [
    "random_forest_scores = get_cross_validation_scores(random_forest_regressor, scaled_ffr_2_training_data, forest_fire_region_2_training_targets)\n",
    "neural_network_scores = get_cross_validation_scores(neural_network_regressor, scaled_ffr_2_training_data, forest_fire_region_2_training_targets)\n",
    "support_vector_scores = get_cross_validation_scores(support_vector_regressor, scaled_ffr_2_training_data, forest_fire_region_2_training_targets)"
   ]
  },
  {
   "cell_type": "code",
   "execution_count": 17,
   "metadata": {},
   "outputs": [
    {
     "name": "stdout",
     "output_type": "stream",
     "text": [
      "[0.98325174 0.94626164 0.94499235 0.87966744 0.9811552 ] [0.95568217 0.98772879 0.90786531 0.99356261 0.9626411 ] [0.96533053 0.99450886 0.87582752 0.97236218 0.98179134]\n"
     ]
    },
    {
     "data": {
      "image/png": "[encoded data removed]",
      "text/plain": [
       "<Figure size 691.2x518.4 with 1 Axes>"
      ]
     },
     "metadata": {},
     "output_type": "display_data"
    }
   ],
   "source": [
    "print(random_forest_scores, neural_network_scores, support_vector_scores)\n",
    "plot_cross_validation((random_forest_scores, neural_network_scores, support_vector_scores))"
   ]
  },
  {
   "cell_type": "markdown",
   "metadata": {},
   "source": [
    "### Optimisation"
   ]
  },
  {
   "cell_type": "code",
   "execution_count": 5,
   "metadata": {},
   "outputs": [],
   "source": [
    "def get_total_distance_of_route(route, distance_data):\n",
    "    total_distance = 0\n",
    "    for city_index in range(0, len(route) - 1):\n",
    "        city_from = route[city_index]\n",
    "        city_to = route[city_index + 1]\n",
    "        single_distance = distance_data[city_from][city_to]\n",
    "        total_distance += single_distance\n",
    "    \n",
    "    return total_distance"
   ]
  },
  {
   "cell_type": "code",
   "execution_count": 6,
   "metadata": {},
   "outputs": [],
   "source": [
    "def get_distance_data():\n",
    "    with open(\"./data/cities.txt\") as cities_long_file:\n",
    "        # Read and use splitlines rather than readlines to avoid \\n characters on the end of city names\n",
    "        cities_long = cities_long_file.read().splitlines()\n",
    "        # Read CSV and specify seperator in order to use faster C implementation of CSV reader\n",
    "        distance_long = pd.read_csv(\"./data/distances.csv\", sep=\",\", names=cities_long)\n",
    "        # Set index names seperately as this is not an option in the read_csv method\n",
    "        distance_long.index = cities_long\n",
    "    with open(\"./data/cities_short.txt\") as cities_short_file:\n",
    "        cities_short = cities_short_file.read().splitlines()\n",
    "        distance_short = pd.read_csv(\"./data/distances_short.csv\", sep=\",\", names=cities_short)\n",
    "        distance_short.index = cities_short\n",
    "    \n",
    "    return (cities_long, distance_long, cities_short, distance_short)"
   ]
  },
  {
   "cell_type": "code",
   "execution_count": 7,
   "metadata": {},
   "outputs": [
    {
     "name": "stdout",
     "output_type": "stream",
     "text": [
      "3037.4999999999995\n",
      "1133\n"
     ]
    }
   ],
   "source": [
    "cities_long, distance_long, cities_short, distance_short = get_distance_data()\n",
    "\n",
    "default_long_distance = get_total_distance_of_route(cities_long, distance_long)\n",
    "default_short_distance = get_total_distance_of_route(cities_short, distance_short)\n",
    "print(default_long_distance)\n",
    "print(default_short_distance)"
   ]
  },
  {
   "cell_type": "code",
   "execution_count": null,
   "metadata": {},
   "outputs": [],
   "source": []
  },
  {
   "cell_type": "code",
   "execution_count": null,
   "metadata": {},
   "outputs": [],
   "source": []
  }
 ],
 "metadata": {
  "kernelspec": {
   "display_name": "Python 3",
   "language": "python",
   "name": "python3"
  },
  "language_info": {
   "codemirror_mode": {
    "name": "ipython",
    "version": 3
   },
   "file_extension": ".py",
   "mimetype": "text/x-python",
   "name": "python",
   "nbconvert_exporter": "python",
   "pygments_lexer": "ipython3",
   "version": "3.6.5"
  }
 },
 "nbformat": 4,
 "nbformat_minor": 2
}
